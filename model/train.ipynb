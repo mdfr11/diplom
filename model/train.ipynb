{
 "cells": [
  {
   "cell_type": "code",
   "execution_count": null,
   "metadata": {},
   "outputs": [],
   "source": [
    "import joblib\n",
    "import pandas as pd\n",
    "from sklearn.metrics import accuracy_score\n",
    "from sklearn.model_selection import train_test_split, KFold\n",
    "from sklearn.neural_network import MLPClassifier\n",
    "from sklearn.preprocessing import StandardScaler\n",
    "\n",
    "def train_and_save_model(data_path, model_path='nn_model.joblib'):\n",
    "    df = pd.read_csv(data_path)\n",
    "    positive_sample = df[df[\"Flag\"] == 1]\n",
    "    negative_sample = df[df[\"Flag\"] == 0].sample(len(positive_sample), random_state=23)\n",
    "    data = pd.concat([negative_sample, positive_sample], axis=0)\n",
    "    \n",
    "    y = data[\"Flag\"]\n",
    "    X = data.iloc[:, 2:]\n",
    "    X_train, X_test, y_train, y_test = train_test_split(X, y, test_size=0.2, random_state=42)\n",
    "    \n",
    "    nn_params = {\"hidden_layer_sizes\": (100, 100), \"solver\": \"adam\"}\n",
    "    nn_model = MLPClassifier(**nn_params)\n",
    "    nn_model.fit(X_train, y_train)\n",
    "    \n",
    "    predictions = nn_model.predict(X_test)\n",
    "    accuracy = accuracy_score(y_test, predictions)\n",
    "    \n",
    "    joblib.dump(nn_model, model_path)\n",
    "    \n",
    "    return model_path, accuracy\n",
    "\n",
    "data_path = \"data.csv\"\n",
    "model_path, accuracy = train_and_save_model(data_path)\n",
    "print(\"Model trained. Accuracy: {:.2f}%\".format(accuracy * 100))\n"
   ]
  },
  {
   "cell_type": "code",
   "execution_count": null,
   "metadata": {},
   "outputs": [],
   "source": [
    "print(y_test[4:5])\n",
    "prediction = nn_model.predict(X_train[4:5])\n",
    "print(prediction)"
   ]
  }
 ],
 "metadata": {
  "language_info": {
   "name": "python"
  }
 },
 "nbformat": 4,
 "nbformat_minor": 2
}
